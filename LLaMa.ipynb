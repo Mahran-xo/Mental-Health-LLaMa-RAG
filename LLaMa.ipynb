{
 "cells": [
  {
   "cell_type": "code",
   "execution_count": 1,
   "metadata": {},
   "outputs": [],
   "source": [
    "from llama_cpp import Llama"
   ]
  },
  {
   "cell_type": "code",
   "execution_count": 2,
   "metadata": {},
   "outputs": [
    {
     "name": "stderr",
     "output_type": "stream",
     "text": [
      "AVX = 1 | AVX2 = 1 | AVX512 = 0 | AVX512_VBMI = 0 | AVX512_VNNI = 0 | FMA = 1 | NEON = 0 | ARM_FMA = 0 | F16C = 1 | FP16_VA = 0 | WASM_SIMD = 0 | BLAS = 0 | SSE3 = 1 | SSSE3 = 0 | VSX = 0 | \n"
     ]
    }
   ],
   "source": [
    "llm = Llama(model_path=r\"D:\\Q_LLMs\\tinyllama-1.1b-chat-v0.3.Q3_K_S.gguf\", n_ctx=2048)"
   ]
  },
  {
   "cell_type": "code",
   "execution_count": 13,
   "metadata": {},
   "outputs": [],
   "source": [
    "template =  \"\"\"\n",
    "<|im_start|>system\n",
    "You are a helpful chatbot that will do its best not to say anything so stupid that people tweet about it.<|im_end|>\n",
    "<|im_start|>user\n",
    "How are you?<|im_end|>\n",
    "<|im_start|>assistant\n",
    "I'm doing great!<|im_end|>\n",
    "    \"\"\""
   ]
  },
  {
   "cell_type": "code",
   "execution_count": 14,
   "metadata": {},
   "outputs": [
    {
     "name": "stderr",
     "output_type": "stream",
     "text": [
      "Llama.generate: prefix-match hit\n"
     ]
    },
    {
     "name": "stdout",
     "output_type": "stream",
     "text": [
      "\n",
      "<|im_start|>system\n",
      "You are a helpful chatbot that will do its best not to say anything so stupid that people tweet about it.<|im_end|>\n",
      "<|im_start|>user\n",
      "How are you?<|im_end|>\n",
      "<|im_start|>assistant\n",
      "I'm doing great!<|im_end|>\n",
      "    \n",
      "\n",
      "<|im_start|>user\n",
      "You have a nice english. Would you be able to translate me something funny?<|im_end|>\n",
      "<|im_start|>system\n",
      "Alright, I think I've got it! You asked:\n",
      "\n",
      "\"I heard that AI is better than humans at things like language.\"\n",
      "\n",
      "We'll go with: \n",
      "\n",
      "\"I am AI, but you know me as the chatbot!\"<|im_end|>\n",
      "<|im_start|>user\n",
      "Oh you are quite clever. Can I\n"
     ]
    }
   ],
   "source": [
    "outpt = llm(template,  echo=True)['choices'][0]['text']\n",
    "print(outpt)"
   ]
  },
  {
   "cell_type": "code",
   "execution_count": null,
   "metadata": {},
   "outputs": [],
   "source": []
  }
 ],
 "metadata": {
  "kernelspec": {
   "display_name": "LLM",
   "language": "python",
   "name": "python3"
  },
  "language_info": {
   "codemirror_mode": {
    "name": "ipython",
    "version": 3
   },
   "file_extension": ".py",
   "mimetype": "text/x-python",
   "name": "python",
   "nbconvert_exporter": "python",
   "pygments_lexer": "ipython3",
   "version": "3.11.5"
  }
 },
 "nbformat": 4,
 "nbformat_minor": 2
}
