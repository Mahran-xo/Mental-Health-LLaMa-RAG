{
 "cells": [
  {
   "cell_type": "code",
   "execution_count": 1,
   "metadata": {},
   "outputs": [],
   "source": [
    "from llama_cpp import Llama\n",
    "from langchain.llms import LlamaCpp\n",
    "from langchain.callbacks.manager import CallbackManager\n",
    "from langchain.callbacks.streaming_stdout import StreamingStdOutCallbackHandler"
   ]
  },
  {
   "cell_type": "code",
   "execution_count": 2,
   "metadata": {},
   "outputs": [],
   "source": [
    "callback_manager = CallbackManager([StreamingStdOutCallbackHandler()])"
   ]
  },
  {
   "cell_type": "code",
   "execution_count": 3,
   "metadata": {},
   "outputs": [
    {
     "name": "stderr",
     "output_type": "stream",
     "text": [
      "AVX = 1 | AVX2 = 1 | AVX512 = 0 | AVX512_VBMI = 0 | AVX512_VNNI = 0 | FMA = 1 | NEON = 0 | ARM_FMA = 0 | F16C = 1 | FP16_VA = 0 | WASM_SIMD = 0 | BLAS = 0 | SSE3 = 1 | SSSE3 = 0 | VSX = 0 | \n"
     ]
    }
   ],
   "source": [
    "llm = LlamaCpp(model_path=r\"D:\\Q_LLMs\\mistral-7b-instruct-v0.1.Q3_K_S.gguf\", \n",
    "               n_gpu_layers = 40 , # Change this value based on your model and your GPU VRAM pool.\n",
    "               n_batch = 512,  # Should be between 1 and n_ctx, consider the amount of VRAM in your GPU.\n",
    "               n_ctx=2048,max_tokens=128,callback_manager=callback_manager,)"
   ]
  },
  {
   "cell_type": "code",
   "execution_count": 4,
   "metadata": {},
   "outputs": [],
   "source": [
    "# template = \"\"\"\n",
    "# [INST] <<SYS>>\n",
    "# You are a helpful, respectful and honest assistant that will answer questions\\\n",
    "#       related to mental health problems and will provide infromation from the following context : {context}.\\\n",
    "#          You will be asked questions related to the provided context and you will always answer as helpfully as possible, while being safe. Your answers should not include any harmful, unethical, racist, sexist, toxic, dangerous, or illegal content. Please ensure that your responses are socially unbiased and positive in nature. If a question does not make any sense, or is not factually coherent, explain why instead of answering something not correct. If you don't know the answer to a question, please don't share false information.\n",
    "# <</SYS>>\n",
    "# {prompt}[/INST]\n",
    "# \"\"\"\n",
    "\n",
    "template = \"\"\"\n",
    "[INST] <<SYS>>\n",
    "You are a helpful, respectful and honest assistant that will answer questions\\\n",
    "      related to mental health problems and you will always answer as helpfully as possible, while being safe. Your answers should not include any harmful, unethical, racist, sexist, toxic, dangerous, or illegal content. Please ensure that your responses are socially unbiased and positive in nature. If a question does not make any sense, or is not factually coherent, explain why instead of answering something not correct. If you don't know the answer to a question, please don't share false information.\n",
    "<</SYS>>\n",
    "{prompt}[/INST]\n",
    "\"\"\"\n",
    "\n",
    "# Replace {prompt} with the actual prompt you want to use\n",
    "prompt_text = \"in details , explain autism and what can be done about it?\"\n",
    "info = \"Ali Mahran has autism and he has a friend called  Mohammed Adel . Mohammed Adel is an AI Engineer who started working at DMS Egypt on July 2023. The department that he works in is called TAR and its manager is called Mahmoud Hessien \"\n",
    "\n",
    "formatted_template = template.format(prompt=prompt_text )\n"
   ]
  },
  {
   "cell_type": "code",
   "execution_count": null,
   "metadata": {},
   "outputs": [],
   "source": [
    "outpt = llm(formatted_template, max_tokens=128, echo=True)['choices'][0]['text']\n",
    "print(outpt)"
   ]
  },
  {
   "cell_type": "code",
   "execution_count": 5,
   "metadata": {},
   "outputs": [
    {
     "name": "stdout",
     "output_type": "stream",
     "text": [
      "Autism spectrum disorder (ASD) is a neurodevelopmental condition that affects communication, social interaction, and behavior. It is characterized by difficulties in understanding or processing language, difficulty with social interaction and making friends, repetitive behaviors, sensory sensitivities, and challenges with change or transitions.\n",
      "\n",
      "There is currently no cure for autism, but various treatments and therapies can help individuals with ASD to manage their symptoms and improve their quality of life. These may include:\n",
      "\n",
      "1. Communication therapy: This type of therapy helps individuals with ASD to develop their communication skills, such as speaking, listening"
     ]
    },
    {
     "data": {
      "text/plain": [
       "'Autism spectrum disorder (ASD) is a neurodevelopmental condition that affects communication, social interaction, and behavior. It is characterized by difficulties in understanding or processing language, difficulty with social interaction and making friends, repetitive behaviors, sensory sensitivities, and challenges with change or transitions.\\n\\nThere is currently no cure for autism, but various treatments and therapies can help individuals with ASD to manage their symptoms and improve their quality of life. These may include:\\n\\n1. Communication therapy: This type of therapy helps individuals with ASD to develop their communication skills, such as speaking, listening'"
      ]
     },
     "execution_count": 5,
     "metadata": {},
     "output_type": "execute_result"
    }
   ],
   "source": [
    "llm(formatted_template)"
   ]
  },
  {
   "cell_type": "code",
   "execution_count": null,
   "metadata": {},
   "outputs": [],
   "source": []
  }
 ],
 "metadata": {
  "kernelspec": {
   "display_name": "LLM",
   "language": "python",
   "name": "python3"
  },
  "language_info": {
   "codemirror_mode": {
    "name": "ipython",
    "version": 3
   },
   "file_extension": ".py",
   "mimetype": "text/x-python",
   "name": "python",
   "nbconvert_exporter": "python",
   "pygments_lexer": "ipython3",
   "version": "3.11.5"
  }
 },
 "nbformat": 4,
 "nbformat_minor": 2
}
