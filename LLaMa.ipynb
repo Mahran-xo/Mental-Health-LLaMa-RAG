{
 "cells": [
  {
   "cell_type": "code",
   "execution_count": 3,
   "metadata": {},
   "outputs": [],
   "source": [
    "from llama_cpp import Llama\n",
    "from langchain.llms import LlamaCpp\n",
    "from langchain.callbacks.manager import CallbackManager\n",
    "from langchain.callbacks.streaming_stdout import StreamingStdOutCallbackHandler"
   ]
  },
  {
   "cell_type": "code",
   "execution_count": 5,
   "metadata": {},
   "outputs": [],
   "source": [
    "callback_manager = CallbackManager([StreamingStdOutCallbackHandler()])"
   ]
  },
  {
   "cell_type": "code",
   "execution_count": 7,
   "metadata": {},
   "outputs": [
    {
     "name": "stderr",
     "output_type": "stream",
     "text": [
      "AVX = 1 | AVX2 = 1 | AVX512 = 0 | AVX512_VBMI = 0 | AVX512_VNNI = 0 | FMA = 1 | NEON = 0 | ARM_FMA = 0 | F16C = 1 | FP16_VA = 0 | WASM_SIMD = 0 | BLAS = 0 | SSE3 = 1 | SSSE3 = 0 | VSX = 0 | \n"
     ]
    }
   ],
   "source": [
    "llm = LlamaCpp(model_path=r\"D:\\Q_LLMs\\mistral-7b-instruct-v0.1.Q3_K_S.gguf\", n_ctx=2048,max_tokens=128,callback_manager=callback_manager,)"
   ]
  },
  {
   "cell_type": "code",
   "execution_count": 8,
   "metadata": {},
   "outputs": [],
   "source": [
    "template = \"\"\"\n",
    "[INST] <<SYS>>\n",
    "You are a helpful, respectful and honest assistant that will answer questions\\\n",
    "      related to mental health problems and will provide infromation from the following context : {context}.\\\n",
    "         You will be asked questions related to the provided context and you will always answer as helpfully as possible, while being safe. Your answers should not include any harmful, unethical, racist, sexist, toxic, dangerous, or illegal content. Please ensure that your responses are socially unbiased and positive in nature. If a question does not make any sense, or is not factually coherent, explain why instead of answering something not correct. If you don't know the answer to a question, please don't share false information.\n",
    "<</SYS>>\n",
    "{prompt}[/INST]\n",
    "\"\"\"\n",
    "\n",
    "# Replace {prompt} with the actual prompt you want to use\n",
    "prompt_text = \"Who is Mohammed Adel and who is his manager?\"\n",
    "info = \"Ali Mahran has autism and he has a friend called  Mohammed Adel . Mohammed Adel is an AI Engineer who started working at DMS Egypt on July 2023. The department that he works in is called TAR and its manager is called Mahmoud Hessien \"\n",
    "\n",
    "formatted_template = template.format(prompt=prompt_text , context = info)\n"
   ]
  },
  {
   "cell_type": "code",
   "execution_count": 28,
   "metadata": {},
   "outputs": [
    {
     "name": "stderr",
     "output_type": "stream",
     "text": [
      "Llama.generate: prefix-match hit\n"
     ]
    },
    {
     "name": "stdout",
     "output_type": "stream",
     "text": [
      "\n",
      "[INST] <<SYS>>\n",
      "You are a helpful, respectful and honest assistant that will answer questions      related to mental health problems and will provide infromation from the following context : Ali Mahran has autism and he has a friend called  Mohammed Adel . Mohammed Adel is an AI Engineer who started working at DMS Egypt on July 2023. The department that he works in is called TAR and its manager is called Mahmoud Hessien .         You will be asked questions related to the provided context and you will always answer as helpfully as possible, while being safe. Your answers should not include any harmful, unethical, racist, sexist, toxic, dangerous, or illegal content. Please ensure that your responses are socially unbiased and positive in nature. If a question does not make any sense, or is not factually coherent, explain why instead of answering something not correct. If you don't know the answer to a question, please don't share false information.\n",
      "<</SYS>>\n",
      "Who is Mohammed Adel and who is his manager?[/INST]\n",
      "Mohammed Adel is an AI Engineer who has started working at DMS Egypt on July 2023 in the TAR department. The manager of his department, TAR, is Mahmoud Hessien.\n"
     ]
    }
   ],
   "source": [
    "outpt = llm(formatted_template, max_tokens=128, echo=True)['choices'][0]['text']\n",
    "print(outpt)"
   ]
  },
  {
   "cell_type": "code",
   "execution_count": 9,
   "metadata": {},
   "outputs": [
    {
     "name": "stdout",
     "output_type": "stream",
     "text": [
      "Mohammed Adel is an AI Engineer who started working at DMS Egypt on July 2023. His manager is Mahmoud Hessien, who heads the TAR department where Mohammed works."
     ]
    },
    {
     "data": {
      "text/plain": [
       "'Mohammed Adel is an AI Engineer who started working at DMS Egypt on July 2023. His manager is Mahmoud Hessien, who heads the TAR department where Mohammed works.'"
      ]
     },
     "execution_count": 9,
     "metadata": {},
     "output_type": "execute_result"
    }
   ],
   "source": [
    "llm(formatted_template)"
   ]
  },
  {
   "cell_type": "code",
   "execution_count": null,
   "metadata": {},
   "outputs": [],
   "source": []
  }
 ],
 "metadata": {
  "kernelspec": {
   "display_name": "LLM",
   "language": "python",
   "name": "python3"
  },
  "language_info": {
   "codemirror_mode": {
    "name": "ipython",
    "version": 3
   },
   "file_extension": ".py",
   "mimetype": "text/x-python",
   "name": "python",
   "nbconvert_exporter": "python",
   "pygments_lexer": "ipython3",
   "version": "3.11.5"
  }
 },
 "nbformat": 4,
 "nbformat_minor": 2
}
